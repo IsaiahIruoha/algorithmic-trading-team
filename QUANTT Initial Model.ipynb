{
 "cells": [
  {
   "cell_type": "code",
   "execution_count": null,
   "id": "0b271bed",
   "metadata": {},
   "outputs": [],
   "source": [
    "# Import all necessary libraries\n",
    "\n",
    "import keras \n",
    "from keras.saving import serialize_keras_object\n",
    "from tensorflow.keras import utils\n",
    "from tensorflow.keras.models import Sequential\n",
    "from tensorflow.keras.layers import Dense, Flatten\n",
    "import json"
   ]
  },
  {
   "cell_type": "code",
   "execution_count": null,
   "id": "42987ff3",
   "metadata": {},
   "outputs": [],
   "source": [
    "# Declare our start time and end time\n",
    "\n",
    "start = datetime(2020, 1, 1)\n",
    "end = datetime(2022, 1, 1)"
   ]
  },
  {
   "cell_type": "code",
   "execution_count": null,
   "id": "c2a49e73",
   "metadata": {},
   "outputs": [],
   "source": [
    "# Access the quantbook API and define the asset a variable, create the data frame based on the asset\n",
    "\n",
    "qb = QuantBook()\n",
    "symbol = qb.AddCrypto(\"BTCUSD\", Resolution.Daily).Symbol\n",
    "history = qb.History(symbol, start, end).loc[symbol]\n",
    "history.head() # Previews first 5 rows "
   ]
  },
  {
   "cell_type": "code",
   "execution_count": null,
   "id": "2550f4a9",
   "metadata": {},
   "outputs": [],
   "source": [
    "# Alter the data frame and take only specific columns, also return the percentage change\n",
    "\n",
    "daily_pct_change = history[[\"open\", \"high\", \"low\", \"close\", \"volume\"]].pct_change().dropna()\n",
    "df = daily_pct_change\n",
    "df.head() "
   ]
  },
  {
   "cell_type": "code",
   "execution_count": null,
   "id": "32f7b077",
   "metadata": {},
   "outputs": [],
   "source": [
    "# Removes all values of infinitiy and replaces with the highest finite value\n",
    "indexes = df[((df.volume == float(\"inf\")))].index\n",
    "for i in indexes:\n",
    "    df.at[i, \"volume\"] = max(df.volume.drop(indexes)) "
   ]
  },
  {
   "cell_type": "code",
   "execution_count": null,
   "id": "3f4c0294",
   "metadata": {},
   "outputs": [],
   "source": [
    "# Take last thirty days and make a list, this will be used for each decision\n",
    "# Go to the day we are examining and return if it was a losing or winning date \n",
    "\n",
    "n_steps = 30 # Step size (data per step)\n",
    "features = [] # inputs\n",
    "labels = [] # outputs \n",
    "for i in range(len(df)-n_steps):\n",
    "    input_data = df.iloc[i:i+n_steps].values\n",
    "    features.append(input_data)\n",
    "    if df['close'].iloc[i+n_steps] >= 0:\n",
    "        # UP\n",
    "        label = 1\n",
    "    else: \n",
    "        # DOWN\n",
    "        label = 0\n",
    "    labels.append(label) "
   ]
  },
  {
   "cell_type": "code",
   "execution_count": null,
   "id": "aeb82271",
   "metadata": {},
   "outputs": [],
   "source": [
    "# Changing the type of the lists from primative into numpy arrays which is a requirement for keras \n",
    "\n",
    "features = np.array(features) # Convert to desired input type\n",
    "labels = np.array(labels) "
   ]
  },
  {
   "cell_type": "code",
   "execution_count": null,
   "id": "3a315c0b",
   "metadata": {},
   "outputs": [],
   "source": [
    "# Define our training and testing data sets, features is the outputs and labels are our inputs \n",
    "\n",
    "train_length = int(len(features) * 0.7) # split the data for training and testing\n",
    "x_train = features[:train_length]\n",
    "x_test = features[train_length:]\n",
    "y_train = labels[:train_length]\n",
    "y_test = labels[train_length:]"
   ]
  },
  {
   "cell_type": "code",
   "execution_count": null,
   "id": "d6a0ebae",
   "metadata": {},
   "outputs": [],
   "source": [
    "# Number of up vs down days in training data should be relatively balanced\n",
    "\n",
    "sum(y_train)/len(y_train)"
   ]
  },
  {
   "cell_type": "code",
   "execution_count": null,
   "id": "1898660b",
   "metadata": {},
   "outputs": [],
   "source": [
    "# Use second part of data for training instead\n",
    "\n",
    "test_length = int(len(features) * 0.3)\n",
    "x_train = features[test_length:]\n",
    "x_test = features[:test_length]\n",
    "y_train = labels[test_length:]\n",
    "y_test = labels[:test_length]"
   ]
  },
  {
   "cell_type": "code",
   "execution_count": null,
   "id": "0fec8050",
   "metadata": {},
   "outputs": [],
   "source": [
    "# Number of up vs down days in training data should be relatively balanced\n",
    "\n",
    "sum(y_train)/len(y_train)"
   ]
  },
  {
   "cell_type": "code",
   "execution_count": null,
   "id": "4b307359",
   "metadata": {},
   "outputs": [],
   "source": [
    "# features, shape, relu gets rid of negative\n",
    "\n",
    "model = Sequential([Dense(30, input_shape=x_train[0].shape, activation='relu'),\n",
    "    Dense(20, activation='relu'),\n",
    "    Flatten(),\n",
    "    Dense(1, activation='sigmoid')])"
   ]
  },
  {
   "cell_type": "code",
   "execution_count": null,
   "id": "a8da03ac",
   "metadata": {},
   "outputs": [],
   "source": [
    "model.compile(loss='binary_crossentropy',\n",
    "                    optimizer='adam',\n",
    "                    metrics=['accuracy', 'mse'])"
   ]
  },
  {
   "cell_type": "code",
   "execution_count": null,
   "id": "9ed619c5",
   "metadata": {},
   "outputs": [],
   "source": [
    "# Epochs is how many times it loops through the data\n",
    "\n",
    "model.fit(x_train, y_train, epochs=5)"
   ]
  },
  {
   "cell_type": "code",
   "execution_count": null,
   "id": "d08d59b9",
   "metadata": {},
   "outputs": [],
   "source": [
    "# Now test the model\n",
    "\n",
    "y_hat = model.predict(x_test)"
   ]
  },
  {
   "cell_type": "code",
   "execution_count": null,
   "id": "53b5d00d",
   "metadata": {},
   "outputs": [],
   "source": [
    "results = pd.DataFrame({'y': y_test.flatten(), 'y_hat': y_hat.flatten()})"
   ]
  },
  {
   "cell_type": "code",
   "execution_count": null,
   "id": "a924dff4",
   "metadata": {},
   "outputs": [],
   "source": [
    "results.plot(title='Model Performance: predicted vs actual %change in closing price', figsize=(17, 7))"
   ]
  },
  {
   "cell_type": "code",
   "execution_count": null,
   "id": "00b19384",
   "metadata": {},
   "outputs": [],
   "source": [
    "pred_train = model.predict(x_train)\n",
    "scores = model.evaluate(x_train, y_train, verbose=0)\n",
    "print('Accuracy on training data: {}% \\n Error on training data: {}'.format(scores[1], 1 - scores[1]))\n",
    "\n",
    "pred_test= model.predict(x_test)\n",
    "scores2 = model.evaluate(x_test, y_test, verbose=0)\n",
    "print('Accuracy on test data: {}% \\n Error on test data: {}'.format(scores2[1], 1 - scores2[1]))"
   ]
  }
 ],
 "metadata": {
  "kernelspec": {
   "display_name": "Python 3 (ipykernel)",
   "language": "python",
   "name": "python3"
  },
  "language_info": {
   "codemirror_mode": {
    "name": "ipython",
    "version": 3
   },
   "file_extension": ".py",
   "mimetype": "text/x-python",
   "name": "python",
   "nbconvert_exporter": "python",
   "pygments_lexer": "ipython3",
   "version": "3.9.12"
  }
 },
 "nbformat": 4,
 "nbformat_minor": 5
}
